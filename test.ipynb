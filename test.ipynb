{
 "cells": [
  {
   "cell_type": "code",
   "execution_count": 1,
   "metadata": {
    "collapsed": false
   },
   "outputs": [],
   "source": [
    "#AL May 2016: post-Born calculations for arXiv:1605.05662 (independent of GP Julia code)\n",
    "%matplotlib inline\n",
    "import sys, platform, os\n",
    "from matplotlib import pyplot as plt\n",
    "sys.path.insert(0,r'c:\\work\\dist\\git\\camb\\pycamb')\n",
    "\n",
    "import camb\n",
    "import numpy as np\n",
    "from camb import model, initialpower\n",
    "from scipy.interpolate import RectBivariateSpline, UnivariateSpline\n",
    "from scipy import optimize\n",
    "from matplotlib import rcParams\n",
    "from camb.bispectrum import threej\n",
    "oldparams = rcParams\n",
    "\n",
    "def setPlotStyle():\n",
    "    params = {'backend': 'pdf',\n",
    "              'axes.labelsize': 13,\n",
    "              'font.size': 11,\n",
    "              'legend.fontsize': 11,\n",
    "              'xtick.labelsize': 12,\n",
    "              'ytick.labelsize': 12,\n",
    "              'ytick.major.pad': 4,\n",
    "              'xtick.major.pad': 6,\n",
    "              'text.usetex': False}\n",
    "    rcParams.update(params)\n",
    "\n",
    "FisherResults={}\n",
    "save_files = False"
   ]
  },
  {
   "cell_type": "code",
   "execution_count": 2,
   "metadata": {
    "collapsed": false
   },
   "outputs": [
    {
     "name": "stdout",
     "output_type": "stream",
     "text": [
      "Curl  Fish =  0.4759, S/N=0.6899  S4_Noise1_Beam3\n",
      "kappa Fish =  0.0446, S/N=0.2112  S4_Noise1_Beam3\n",
      "Curl  Fish =  0.0000, S/N=0.0063  planck\n",
      "kappa Fish =  0.0001, S/N=0.0093  planck\n",
      "Curl  Fish =  0.0012, S/N=0.0354  SA\n",
      "kappa Fish =  0.0011, S/N=0.0332  SA\n",
      "Curl  Fish =  0.0020, S/N=0.0451  SPT3G\n",
      "kappa Fish =  0.0004, S/N=0.0198  SPT3G\n",
      "Curl  Fish =  7.5262, S/N=2.7434  Noise0.25_Beam1\n",
      "kappa Fish =  0.7548, S/N=0.8688  Noise0.25_Beam1\n"
     ]
    }
   ],
   "source": [
    "for ex in obs:\n",
    "    Fish, CurlFish = ex.powerFish()        \n",
    "    amperr = np.sqrt(CurlFish)\n",
    "    print 'Curl  Fish = %7.4f, S/N=%.4f  %s'%( CurlFish, amperr, ex.label)\n",
    "    amperr = np.sqrt(Fish)\n",
    "    print 'kappa Fish = %7.4f, S/N=%.4f  %s'%(Fish, amperr, ex.label)\n"
   ]
  },
  {
   "cell_type": "markdown",
   "metadata": {},
   "source": [
    "For the bispectrum contributions, we have\n",
    "$$\n",
    "\\langle \\phi(l_1)\\phi(l_2)\\omega(l_3)\\rangle = (2\\pi)^2 \\delta (l_1+l_2+l_3) b_{l_1,l_2,l_3}^{\\phi\\phi\\omega}\n",
    "$$\n",
    "where\n",
    "$$\n",
    " b_{l_1,l_2,l_3}^{\\phi\\phi\\omega} = -8\\, l_1\\times l_2 \\,l_1\\cdot l_2 \\int_0^{\\chi_*} d\\chi \\frac{W(\\chi,\\chi_*)^2}{\\chi^2} \\int_0^{\\chi}d\\chi' \\frac{W(\\chi',\\chi)W(\\chi',\\chi_*)}{{\\chi'}^2} \\left[\n",
    " P_\\psi\\left(\\frac{l_1}{\\chi},z(\\chi)\\right) P_\\Psi\\left(\\frac{l_2}{\\chi'},z(\\chi')\\right)  \n",
    "- (l_1\\leftrightarrow l_2)\n",
    "\\right]\n",
    "$$\n",
    "Now defining\n",
    "$$\n",
    "M_*(l,l') \\equiv l^4\\int_0^{\\chi_*}d\\chi \\frac{W(\\chi,\\chi_*)^2}{\\chi^2} P_\\Psi\\left(\\frac{l}{\\chi}, z(\\chi)\\right) C_{l'}^\\kappa(\\chi,\\chi_*)\n",
    "$$\n",
    "we have\n",
    "$$\n",
    "b_{l_1l_2l_3}^{\\kappa\\kappa\\omega} = -\\sin 2\\phi_{21}\\left[ M_*(l_1,l_2)-M_*(l_2,l_1)\\right]\n",
    "$$"
   ]
  }
 ],
 "metadata": {
  "kernelspec": {
   "display_name": "Python 2",
   "language": "python",
   "name": "python2"
  },
  "language_info": {
   "codemirror_mode": {
    "name": "ipython",
    "version": 2
   },
   "file_extension": ".py",
   "mimetype": "text/x-python",
   "name": "python",
   "nbconvert_exporter": "python",
   "pygments_lexer": "ipython2",
   "version": "2.7.11"
  }
 },
 "nbformat": 4,
 "nbformat_minor": 0
}
