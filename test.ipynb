{
  "cells":[
   {
   "cell_type": "raw",
   "metadata": {
    "collapsed": true
   },
   "source": [
    "def flatten_layer(layer):\n",
    "    # Get the shape of the input layer.\n",
    "    layer_shape = layer.get_shape()\n",
    "\n",
    "    # The shape of the input layer is assumed to be:\n",
    "    # layer_shape == [num_images, img_width, img_height, num_channels]\n",
    "\n",
    "    # The number of features is: img_width * img_height * num_channels\n",
    "    # The shape uses a TensorFlow datatype, so convert it to numpy.\n",
    "    num_features = np.array(layer_shape[1:4], dtype=int).prod()\n",
    "\n",
    "    # Reshape the layer to [num_images, num_features].\n",
    "    # Note that we just set the size of the second dimension\n",
    "    # to num_features and the size of the first dimension to -1\n",
    "    # which means the size in that dimension is calculated\n",
    "    # so the total size of the tensor is unchanged from the reshaping.\n",
    "    layer_flat = tf.reshape(layer, [-1, num_features])\n",
    "\n",
    "    # The shape of the flattened layer is now:\n",
    "    # [num_images, img_width * img_height * num_channels]\n",
    "\n",
    "    # Return both the flattened layer and the number of features.\n",
    "    return layer_flat, num_features"
   ]
  }
  ]
} 
